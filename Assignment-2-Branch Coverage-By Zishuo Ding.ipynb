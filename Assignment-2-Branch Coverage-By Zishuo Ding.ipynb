{
 "cells": [
  {
   "cell_type": "markdown",
   "metadata": {},
   "source": [
    "## The Coverage-Guided Fuzzer"
   ]
  },
  {
   "cell_type": "markdown",
   "metadata": {},
   "source": [
    "In this notebook, we implemented a simple coverage-guided fuzzer. \n",
    "\n",
    "There are several different coverage criteria, including:\n",
    "- **Function coverage** – Has each function (or subroutine) in the program been called?\n",
    "- **Statement coverage** – Has each statement in the program been executed?\n",
    "- **Edge coverage** – has every edge in the Control flow graph been executed?\n",
    "- **Branch coverage** – Has each branch (also called DD-path) of each control structure (such as in if and case statements) been executed? For example, given an if statement, have both the true and false branches been executed? Notice that this one is a subset of Edge coverage.\n",
    "- **Condition coverage** (or predicate coverage) – Has each Boolean sub-expression evaluated both to true and false?\n",
    "\n",
    "In this assignment, we select 3 coverage criteria, and this notebook is about using **branch coverage** as a guide for testing."
   ]
  },
  {
   "cell_type": "markdown",
   "metadata": {},
   "source": [
    "### Branch Coverage"
   ]
  },
  {
   "cell_type": "markdown",
   "metadata": {},
   "source": [
    "#### Library import"
   ]
  },
  {
   "cell_type": "markdown",
   "metadata": {},
   "source": [
    "Import necessary libraries, \n",
    "**RandomFuzzer** for gengerating the random inputs, **MutationFuzzer** is used to generate the inputs from the seed, **Coverage** is used to track the covered statments."
   ]
  },
  {
   "cell_type": "code",
   "execution_count": 231,
   "metadata": {
    "ExecuteTime": {
     "end_time": "2019-11-06T03:47:21.225619Z",
     "start_time": "2019-11-06T03:47:21.222337Z"
    }
   },
   "outputs": [],
   "source": [
    "from fuzzingbook.Fuzzer import RandomFuzzer\n",
    "from fuzzingbook.MutationFuzzer import MutationFuzzer\n",
    "from fuzzingbook.Coverage import Coverage\n",
    "\n",
    "import random\n",
    "import inspect\n",
    "\n",
    "# we use several keywords to detect the control statements\n",
    "control_keywords = ['if', 'else', 'elif', 'while', 'for']\n",
    "\n",
    "# the trials for repetition\n",
    "trials = 400"
   ]
  },
  {
   "cell_type": "markdown",
   "metadata": {},
   "source": [
    "#### One program for testing the fuzzer"
   ]
  },
  {
   "cell_type": "code",
   "execution_count": 232,
   "metadata": {
    "ExecuteTime": {
     "end_time": "2019-11-06T03:47:25.334906Z",
     "start_time": "2019-11-06T03:47:25.328390Z"
    }
   },
   "outputs": [],
   "source": [
    "def is_valid_email(email):\n",
    "    \"\"\"This is an example test program for the \n",
    "    branch coverage guided fuzzy testing.\n",
    "    Since it is not our focus, it may \n",
    "    contain errors in this program.\n",
    "    \"\"\"\n",
    "    try:\n",
    "        email_elems = email.split('@')\n",
    "        if len(email_elems) == 2:\n",
    "            email_id, email_domain = email_elems\n",
    "            # check for domain name\n",
    "            valid_domain = True\n",
    "            for domain_char in email_domain:\n",
    "                if domain_char.isalpha() or domain_char in ['@', '-', '.'] or domain_char.isdigit():\n",
    "                    continue\n",
    "                else:\n",
    "                    valid_domain = False\n",
    "            if valid_domain:\n",
    "                # now check the email local-part\n",
    "                if len(email_id) > 64:\n",
    "                    return False\n",
    "                else:\n",
    "                    if ' ' in email_id:\n",
    "                        if '\"' not in email_id:\n",
    "                            return False\n",
    "                        elif email_id.index('\"') < email_id.index(' '):\n",
    "                            return True\n",
    "                    else:\n",
    "                        return True\n",
    "            else:\n",
    "                return False\n",
    "        elif len(email_elems) == 1:\n",
    "            return False\n",
    "        else:\n",
    "            return False\n",
    "    except ValueError:\n",
    "        return False"
   ]
  },
  {
   "cell_type": "markdown",
   "metadata": {},
   "source": [
    "#### Getting the source code"
   ]
  },
  {
   "cell_type": "code",
   "execution_count": 221,
   "metadata": {
    "ExecuteTime": {
     "end_time": "2019-11-06T02:18:02.924675Z",
     "start_time": "2019-11-06T02:18:02.920472Z"
    }
   },
   "outputs": [],
   "source": [
    "# inspect the source code the program and store the soure code into source_code_lines\n",
    "source_code_lines = inspect.getsource(is_valid_email).splitlines()"
   ]
  },
  {
   "cell_type": "markdown",
   "metadata": {},
   "source": [
    "#### Common functions for calculating the coverage"
   ]
  },
  {
   "cell_type": "markdown",
   "metadata": {
    "ExecuteTime": {
     "end_time": "2019-11-05T03:36:45.579201Z",
     "start_time": "2019-11-05T03:36:45.576012Z"
    }
   },
   "source": [
    "In this part, we define three functions, **branch_coverage**, **calculate_cumulative_coverage**, and **check_control_statements** for collecting the covered line pairs, collecting the cumulative covered lines and checking whether the statements are control statements.  "
   ]
  },
  {
   "cell_type": "code",
   "execution_count": 226,
   "metadata": {
    "ExecuteTime": {
     "end_time": "2019-11-06T03:37:29.453432Z",
     "start_time": "2019-11-06T03:37:29.450366Z"
    }
   },
   "outputs": [],
   "source": [
    "def branch_coverage(trace):\n",
    "    \"\"\"This function takes the covered trace, \n",
    "    and return the covered line pairs.\n",
    "    @trace: the covered trace.\n",
    "    \"\"\"\n",
    "    coverage = set()\n",
    "    past_line = None\n",
    "    for line in trace:\n",
    "        if past_line is not None:\n",
    "            coverage.add((past_line, line))\n",
    "        past_line = line\n",
    "\n",
    "    return coverage"
   ]
  },
  {
   "cell_type": "code",
   "execution_count": 228,
   "metadata": {
    "ExecuteTime": {
     "end_time": "2019-11-06T03:39:06.683169Z",
     "start_time": "2019-11-06T03:39:06.679873Z"
    }
   },
   "outputs": [],
   "source": [
    "def calculate_cumulative_coverage(input_population, function):\n",
    "    \"\"\"This function is used for collecting the coverged lines pairs.\n",
    "    It takes two params,\n",
    "    @input_population: a list of inputs \n",
    "    @function: the target function for testing\n",
    "    and rerurn the cumulated covered line pairs.\n",
    "    \"\"\"\n",
    "    cumulative_coverage = []\n",
    "    for inp in input_population:\n",
    "        with Coverage() as cov:\n",
    "            try:\n",
    "                function(inp)\n",
    "            except:\n",
    "                # we ignore exceptions for the purpose of this code,\n",
    "                # but some exceptions may be interesting\n",
    "                pass\n",
    "        cumulative_coverage.append(branch_coverage(cov.trace()))\n",
    "    return cumulative_coverage"
   ]
  },
  {
   "cell_type": "code",
   "execution_count": 229,
   "metadata": {
    "ExecuteTime": {
     "end_time": "2019-11-06T03:45:54.034925Z",
     "start_time": "2019-11-06T03:45:54.031343Z"
    }
   },
   "outputs": [],
   "source": [
    "def check_control_statements(covered_pair_lines, source_code_lines):\n",
    "    \"\"\"This function checks whether the lines are control statements or not.\n",
    "    @covered_pair_lines: the covered line pairs\n",
    "    @source_code_lines: the source code lines\n",
    "    and return the list of covered lines.\n",
    "    \"\"\"\n",
    "    covered_control_list = set()\n",
    "    for covered_pair_line in covered_pair_lines:\n",
    "        source_code_line = source_code_lines[covered_pair_line[0][-1]]\n",
    "        if any([x in source_code_line for x in control_keywords]):\n",
    "            covered_control_list.add(covered_pair_line)\n",
    "    return covered_control_list"
   ]
  },
  {
   "cell_type": "markdown",
   "metadata": {},
   "source": [
    "#### Random Fuzzer"
   ]
  },
  {
   "cell_type": "code",
   "execution_count": 237,
   "metadata": {
    "ExecuteTime": {
     "end_time": "2019-11-06T03:54:50.118417Z",
     "start_time": "2019-11-06T03:54:50.078999Z"
    }
   },
   "outputs": [],
   "source": [
    "branch_coverage_set = set()\n",
    "covered_branch_count_list_random = [] # keep the cumulative covered branch count\n",
    "\n",
    "random_fuzzer = RandomFuzzer() # random fuzzer\n",
    "\n",
    "inputs_random = [random_fuzzer.fuzz() for _ in range(trials)] # random inputs\n",
    "\n",
    "# get the covered line numbers\n",
    "coverages_line_numbers = calculate_cumulative_coverage(\n",
    "    inputs_random, is_valid_email)\n",
    "\n",
    "# check whether the covered line are control statements or not\n",
    "# and keep the coverage count in a list for later ploting\n",
    "for coverages_line_number in coverages_line_numbers:\n",
    "    new_covered_statements = check_control_statements(\n",
    "        coverages_line_number, source_code_lines)\n",
    "    branch_coverage_set |= new_covered_statements\n",
    "    covered_branch_count_list_random.append(len(branch_coverage_set))"
   ]
  },
  {
   "cell_type": "markdown",
   "metadata": {},
   "source": [
    "#### Branch coverage fuzzer"
   ]
  },
  {
   "cell_type": "code",
   "execution_count": 241,
   "metadata": {
    "ExecuteTime": {
     "end_time": "2019-11-06T03:59:10.118154Z",
     "start_time": "2019-11-06T03:59:10.115322Z"
    }
   },
   "outputs": [],
   "source": [
    "def weighted_random_seed(seed_list):\n",
    "    \"\"\"Weighted random sampling, \n",
    "    based on the coverage improvements\"\"\"\n",
    "    _weights = [x[1] for x in seed_list]\n",
    "    return random.choices(population=seed_list, weights=_weights, k=1)[0]"
   ]
  },
  {
   "cell_type": "code",
   "execution_count": 247,
   "metadata": {
    "ExecuteTime": {
     "end_time": "2019-11-06T04:19:30.692073Z",
     "start_time": "2019-11-06T04:19:30.592803Z"
    }
   },
   "outputs": [],
   "source": [
    "seed_initial = 'sd@sd.com'  # initial seed\n",
    "seed_generated = []  # generated seeds based on the coverage improvements\n",
    "covered_branch_count_list_coverage = []  # keep the coverage count\n",
    "covered_branches_set_coverage = set()  # keep the coverage information\n",
    "\n",
    "\n",
    "for _ in range(trials):\n",
    "    if not seed_generated:\n",
    "        _seed = seed_initial\n",
    "    else:\n",
    "        _seed = weighted_random_seed(seed_generated)[0]\n",
    "\n",
    "    # based on the seed, generate the inputs\n",
    "    mutation_fuzzer = MutationFuzzer(seed=[_seed])\n",
    "    inputs_mutation = random.choice(\n",
    "        [mutation_fuzzer.fuzz() for i in range(10)][1:])\n",
    "\n",
    "    # get the coverage information\n",
    "    coverages_line_number = calculate_cumulative_coverage(\n",
    "        [inputs_mutation], is_valid_email)[0]\n",
    "    covered_statements = check_control_statements(\n",
    "        coverages_line_number, source_code_lines)\n",
    "\n",
    "    # if the generated seed is empty\n",
    "    if not seed_generated:\n",
    "        seed_generated.append((inputs_mutation, 0))\n",
    "        covered_branches_set_coverage |= covered_statements\n",
    "        covered_branch_count_list_coverage.append(\n",
    "            len(covered_branches_set_coverage))\n",
    "    # the generated seed's coverage information is improved\n",
    "    elif not covered_statements.issubset(covered_branches_set_coverage):\n",
    "        covered_branches_set_coverage |= covered_statements\n",
    "        covered_branch_count_list_coverage.append(\n",
    "            len(covered_branches_set_coverage))\n",
    "        increased_coverage = covered_branch_count_list_coverage[-1] - \\\n",
    "            covered_branch_count_list_coverage[-2]\n",
    "        seed_generated.append((inputs_mutation, increased_coverage))\n",
    "    else:  # not improved\n",
    "        covered_branch_count_list_coverage.append(\n",
    "            len(covered_branches_set_coverage))"
   ]
  },
  {
   "cell_type": "markdown",
   "metadata": {},
   "source": [
    "#### Visulazing the results"
   ]
  },
  {
   "cell_type": "code",
   "execution_count": 250,
   "metadata": {
    "ExecuteTime": {
     "end_time": "2019-11-06T04:27:37.754869Z",
     "start_time": "2019-11-06T04:27:37.572601Z"
    }
   },
   "outputs": [
    {
     "data": {
      "text/plain": [
       "<matplotlib.legend.Legend at 0x11e20d748>"
      ]
     },
     "execution_count": 250,
     "metadata": {},
     "output_type": "execute_result"
    },
    {
     "data": {
      "image/png": "[encoded data removed]",
      "text/plain": [
       "<Figure size 432x288 with 1 Axes>"
      ]
     },
     "metadata": {
      "needs_background": "light"
     },
     "output_type": "display_data"
    }
   ],
   "source": [
    "import matplotlib.pyplot as plt\n",
    "%matplotlib inline\n",
    "\n",
    "plt.plot(covered_branch_count_list_coverage)\n",
    "plt.plot(covered_branch_count_list_random)\n",
    "plt.title('Coverage of is_valid_email() with random/coverage-guided inputs')\n",
    "plt.xlabel('# of inputs')\n",
    "plt.ylabel('branch covered')\n",
    "plt.legend(['Coverage guided fuzzer', 'RandomFuzzer'], loc='upper left')"
   ]
  },
  {
   "cell_type": "code",
   "execution_count": null,
   "metadata": {},
   "outputs": [],
   "source": []
  }
 ],
 "metadata": {
  "kernelspec": {
   "display_name": "Python 3",
   "language": "python",
   "name": "python3"
  },
  "language_info": {
   "codemirror_mode": {
    "name": "ipython",
    "version": 3
   },
   "file_extension": ".py",
   "mimetype": "text/x-python",
   "name": "python",
   "nbconvert_exporter": "python",
   "pygments_lexer": "ipython3",
   "version": "3.7.3"
  },
  "toc": {
   "base_numbering": 1,
   "nav_menu": {},
   "number_sections": true,
   "sideBar": true,
   "skip_h1_title": false,
   "title_cell": "Table of Contents",
   "title_sidebar": "Contents",
   "toc_cell": false,
   "toc_position": {},
   "toc_section_display": true,
   "toc_window_display": true
  },
  "varInspector": {
   "cols": {
    "lenName": 16,
    "lenType": 16,
    "lenVar": 40
   },
   "kernels_config": {
    "python": {
     "delete_cmd_postfix": "",
     "delete_cmd_prefix": "del ",
     "library": "var_list.py",
     "varRefreshCmd": "print(var_dic_list())"
    },
    "r": {
     "delete_cmd_postfix": ") ",
     "delete_cmd_prefix": "rm(",
     "library": "var_list.r",
     "varRefreshCmd": "cat(var_dic_list()) "
    }
   },
   "types_to_exclude": [
    "module",
    "function",
    "builtin_function_or_method",
    "instance",
    "_Feature"
   ],
   "window_display": false
  }
 },
 "nbformat": 4,
 "nbformat_minor": 2
}
