{
 "cells": [
  {
   "cell_type": "markdown",
   "metadata": {},
   "source": [
    "## Function Coverage Guided Fuzzer"
   ]
  },
  {
   "cell_type": "code",
   "execution_count": 1,
   "metadata": {},
   "outputs": [],
   "source": [
    "#!/usr/bin/env python3\n",
    "# -*- coding: utf-8 -*-\n",
    "\n",
    "# @Author : Lizhi Liao (40048329)\n",
    "\n",
    "from fuzzingbook.Fuzzer import RandomFuzzer\n",
    "from fuzzingbook.MutationFuzzer import MutationFuzzer\n",
    "from fuzzingbook.Coverage import Coverage\n",
    "\n",
    "import random\n",
    "import sys"
   ]
  },
  {
   "cell_type": "markdown",
   "metadata": {},
   "source": [
    "Mian Compnents is Function Coverage Guided Fuzzer:\n",
    "1. component that traces the function calls during execution\n",
    "2. component that calculates the number of function calls for each fuzzing input value\n",
    "3. component that maintain the main process of the coverage-guided algorithm\n",
    "4. component that maintain the main process of the pure randomly algorithm¶\n",
    "5. component that compare the random fuzzer and function coverage-guided fuzzer"
   ]
  },
  {
   "cell_type": "markdown",
   "metadata": {},
   "source": [
    "Instead of performing blackbox fuzzing which does not have any information of the source code, nor how the code is executed, now we can improve our fuzzer by integrating the coverage information.\n",
    "\n",
    "In this work, we especially focus on the Funciton Coverage of the test input."
   ]
  },
  {
   "cell_type": "markdown",
   "metadata": {},
   "source": [
    "#### the component below is testing program which is responsible for testing our fuzzer"
   ]
  },
  {
   "cell_type": "code",
   "execution_count": 2,
   "metadata": {},
   "outputs": [],
   "source": [
    "def is_valid_email(email):\n",
    "    \"\"\"This is an example test program for the \n",
    "    function coverage guided fuzzy testing.\n",
    "    Since it is not our focus, it may \n",
    "    contain some defects in this program.\n",
    "    \"\"\"\n",
    "    try:\n",
    "        # split email into id and domian\n",
    "        email_id, email_domain = split_email_elements(email, '@')\n",
    "        \n",
    "        # check the domain name\n",
    "        valid_domain = check_domain_name(email_domain)\n",
    "                \n",
    "        # check the user name\n",
    "        if valid_domain:\n",
    "            res = check_user_name(email_id)\n",
    "            return res\n",
    "        else:\n",
    "            return False\n",
    "    except:\n",
    "        return False\n",
    "    \n",
    "    \n",
    "def split_email_elements(obj, seperator):\n",
    "    email_elems = obj.split(seperator)\n",
    "    if len(email_elems) == 2:\n",
    "        email_id, email_domain = email_elems\n",
    "        return email_id, email_domain\n",
    "        \n",
    "def check_domain_name(email_domain):\n",
    "    valid_domain = True\n",
    "    for domain_char in email_domain:\n",
    "        if domain_char.isalpha() or domain_char in ['@', '-', '.'] or domain_char.isdigit():\n",
    "            continue\n",
    "        else:\n",
    "            valid_domain = False\n",
    "    return valid_domain\n",
    "\n",
    "def check_user_name(email_id):\n",
    "    # now check the email local-part\n",
    "    if len(email_id) > 64:\n",
    "        return False\n",
    "    else:\n",
    "        if ' ' in email_id:\n",
    "            if '\"' not in email_id:\n",
    "                return False\n",
    "            elif email_id.index('\"') < email_id.index(' '):\n",
    "                return True\n",
    "        else:\n",
    "            return True"
   ]
  },
  {
   "cell_type": "markdown",
   "metadata": {},
   "source": [
    "#### the function below is responsible for tarcing the funciton calls when program is in execution"
   ]
  },
  {
   "cell_type": "code",
   "execution_count": 3,
   "metadata": {},
   "outputs": [],
   "source": [
    "def trace_calls(frame, event, arg):\n",
    "    global coverage\n",
    "    if event != 'call':\n",
    "        return\n",
    "    co = frame.f_code\n",
    "    func_name = co.co_name\n",
    "    func_line_no = frame.f_lineno\n",
    "    func_filename = co.co_filename\n",
    "    if func_filename.find('anaconda3') != -1:\n",
    "        # Ignore calls not in this module\n",
    "        return\n",
    "    caller = frame.f_back\n",
    "    caller_line_no = caller.f_lineno\n",
    "    caller_filename = caller.f_code.co_filename\n",
    "    \n",
    "#     print('* Call to', func_name)\n",
    "#     print('*  on line {} of {}'.format(\n",
    "#         func_line_no, func_filename))\n",
    "#     print('*  from line {} of {}'.format(\n",
    "#         caller_line_no, caller_filename))\n",
    "    \n",
    "    coverage.append(func_name + str(func_line_no) + func_filename)\n",
    "    return\n",
    "\n",
    "# simple testing for the trace calls\n",
    "def b():\n",
    "    print('inside b()\\n')\n",
    "\n",
    "\n",
    "def a(a):\n",
    "    print('inside a()\\n')\n",
    "    b()"
   ]
  },
  {
   "cell_type": "markdown",
   "metadata": {},
   "source": [
    "#### the function below is responsible for execting the funciton and return the number of the function calls for the input"
   ]
  },
  {
   "cell_type": "code",
   "execution_count": 4,
   "metadata": {},
   "outputs": [],
   "source": [
    "def execute_and_trace(fun, inp):\n",
    "    global coverage\n",
    "    coverage = []\n",
    "    sys.settrace(trace_calls)  # Turn on\n",
    "    fun(inp)\n",
    "    sys.settrace(None)    # Turn off\n",
    "    return coverage\n",
    "\n",
    "# simple test for execute_and_trace\n",
    "\n",
    "# inp = \"kdjalkdjf@c@s.com\"\n",
    "# execute_and_trace(is_valid_email, inp)"
   ]
  },
  {
   "cell_type": "markdown",
   "metadata": {},
   "source": [
    "#### the function below is responsible for calculating the function coverage information of all input_population"
   ]
  },
  {
   "cell_type": "code",
   "execution_count": 5,
   "metadata": {},
   "outputs": [],
   "source": [
    "def calculate_coverage(input, funtion):\n",
    "    coverage_score = []\n",
    "    for inp in input:\n",
    "        try:\n",
    "            coverage_score.append(len(execute_and_trace(funtion, inp)))\n",
    "        except:\n",
    "            # we ignore exceptions for the purpose of this code, but some exceptions may be interesting\n",
    "            pass\n",
    "    return coverage_score"
   ]
  },
  {
   "cell_type": "code",
   "execution_count": null,
   "metadata": {},
   "outputs": [],
   "source": []
  },
  {
   "cell_type": "markdown",
   "metadata": {},
   "source": [
    "### Random Fuzzing "
   ]
  },
  {
   "cell_type": "code",
   "execution_count": 6,
   "metadata": {},
   "outputs": [],
   "source": [
    "trials = 100\n",
    "seed_initial = 'abcd@ef@g.dfadf@.com'\n",
    "covered_function_count_list_random = []"
   ]
  },
  {
   "cell_type": "code",
   "execution_count": 7,
   "metadata": {},
   "outputs": [],
   "source": [
    "mutation_fuzzer = MutationFuzzer(seed=[seed_initial])\n",
    "\n",
    "for trail in range(trials):\n",
    "    inp = mutation_fuzzer.fuzz()\n",
    "    coverage_score = calculate_coverage([inp], is_valid_email)\n",
    "    covered_function_count_list_random.append(max(coverage_score))"
   ]
  },
  {
   "cell_type": "markdown",
   "metadata": {},
   "source": [
    "#### from the following result, we can observe that the random fuzzing cannot help the fuzzer improve the function call coverage"
   ]
  },
  {
   "cell_type": "code",
   "execution_count": 8,
   "metadata": {},
   "outputs": [
    {
     "data": {
      "text/plain": [
       "[2,\n",
       " 2,\n",
       " 2,\n",
       " 2,\n",
       " 2,\n",
       " 2,\n",
       " 2,\n",
       " 2,\n",
       " 4,\n",
       " 2,\n",
       " 2,\n",
       " 2,\n",
       " 2,\n",
       " 2,\n",
       " 4,\n",
       " 2,\n",
       " 2,\n",
       " 2,\n",
       " 2,\n",
       " 2,\n",
       " 2,\n",
       " 2,\n",
       " 2,\n",
       " 2,\n",
       " 3,\n",
       " 2,\n",
       " 2,\n",
       " 2,\n",
       " 2,\n",
       " 2,\n",
       " 2,\n",
       " 2,\n",
       " 2,\n",
       " 3,\n",
       " 2,\n",
       " 2,\n",
       " 2,\n",
       " 2,\n",
       " 2,\n",
       " 2,\n",
       " 2,\n",
       " 2,\n",
       " 2,\n",
       " 2,\n",
       " 2,\n",
       " 2,\n",
       " 2,\n",
       " 2,\n",
       " 2,\n",
       " 2,\n",
       " 2,\n",
       " 2,\n",
       " 2,\n",
       " 2,\n",
       " 2,\n",
       " 2,\n",
       " 2,\n",
       " 2,\n",
       " 2,\n",
       " 2,\n",
       " 2,\n",
       " 2,\n",
       " 2,\n",
       " 2,\n",
       " 2,\n",
       " 2,\n",
       " 3,\n",
       " 2,\n",
       " 2,\n",
       " 2,\n",
       " 2,\n",
       " 2,\n",
       " 2,\n",
       " 2,\n",
       " 2,\n",
       " 2,\n",
       " 2,\n",
       " 2,\n",
       " 2,\n",
       " 2,\n",
       " 2,\n",
       " 2,\n",
       " 2,\n",
       " 2,\n",
       " 2,\n",
       " 2,\n",
       " 2,\n",
       " 2,\n",
       " 3,\n",
       " 2,\n",
       " 2,\n",
       " 2,\n",
       " 2,\n",
       " 2,\n",
       " 2,\n",
       " 2,\n",
       " 2,\n",
       " 3,\n",
       " 4,\n",
       " 2]"
      ]
     },
     "execution_count": 8,
     "metadata": {},
     "output_type": "execute_result"
    }
   ],
   "source": [
    "covered_function_count_list_random"
   ]
  },
  {
   "cell_type": "code",
   "execution_count": null,
   "metadata": {},
   "outputs": [],
   "source": []
  },
  {
   "cell_type": "markdown",
   "metadata": {},
   "source": [
    "### Function Call Coverage-guided Fuzzing "
   ]
  },
  {
   "cell_type": "code",
   "execution_count": 9,
   "metadata": {},
   "outputs": [],
   "source": [
    "trials = 100\n",
    "seed_initial = 'abcd@ef@g.dfadf@.com'\n",
    "seed_generated = []\n",
    "covered_function_count_list_guided = []"
   ]
  },
  {
   "cell_type": "code",
   "execution_count": 10,
   "metadata": {},
   "outputs": [],
   "source": [
    "for trail in range(trials):\n",
    "    if not seed_generated:\n",
    "        seed = seed_initial\n",
    "    else:\n",
    "        seed = seed_generated[0]\n",
    "        seed_generated.remove(seed)\n",
    "        seed = seed[0]\n",
    "    \n",
    "    mutation_fuzzer = MutationFuzzer(seed=[seed])\n",
    "    input = []\n",
    "    number_of_fuzzing = 3\n",
    "    for i in range(number_of_fuzzing):\n",
    "        inp = mutation_fuzzer.fuzz()\n",
    "        input.append(inp)\n",
    "\n",
    "    coverage_score = calculate_coverage(input, is_valid_email)\n",
    "    \n",
    "    covered_function_count_list_guided.append(max(coverage_score))\n",
    "    \n",
    "    for i in range (number_of_fuzzing): \n",
    "        seed_generated.append((input[i], coverage_score[i]))\n",
    "                \n",
    "    seed_generated.sort(key=lambda tup: tup[1], reverse=True)"
   ]
  },
  {
   "cell_type": "markdown",
   "metadata": {},
   "source": [
    "#### from the following result, we can observe that, the function call guided fuzzing can help the fuzzer improve the function call coverage"
   ]
  },
  {
   "cell_type": "code",
   "execution_count": 11,
   "metadata": {},
   "outputs": [
    {
     "data": {
      "text/plain": [
       "[2,\n",
       " 2,\n",
       " 2,\n",
       " 2,\n",
       " 2,\n",
       " 2,\n",
       " 2,\n",
       " 2,\n",
       " 2,\n",
       " 3,\n",
       " 3,\n",
       " 3,\n",
       " 3,\n",
       " 3,\n",
       " 3,\n",
       " 3,\n",
       " 3,\n",
       " 3,\n",
       " 3,\n",
       " 4,\n",
       " 4,\n",
       " 4,\n",
       " 4,\n",
       " 4,\n",
       " 4,\n",
       " 4,\n",
       " 4,\n",
       " 4,\n",
       " 4,\n",
       " 4,\n",
       " 4,\n",
       " 4,\n",
       " 4,\n",
       " 4,\n",
       " 4,\n",
       " 4,\n",
       " 4,\n",
       " 4,\n",
       " 4,\n",
       " 4,\n",
       " 4,\n",
       " 4,\n",
       " 4,\n",
       " 4,\n",
       " 4,\n",
       " 4,\n",
       " 4,\n",
       " 4,\n",
       " 4,\n",
       " 4,\n",
       " 4,\n",
       " 4,\n",
       " 4,\n",
       " 4,\n",
       " 4,\n",
       " 4,\n",
       " 4,\n",
       " 4,\n",
       " 4,\n",
       " 4,\n",
       " 4,\n",
       " 4,\n",
       " 4,\n",
       " 4,\n",
       " 4,\n",
       " 4,\n",
       " 4,\n",
       " 4,\n",
       " 4,\n",
       " 4,\n",
       " 4,\n",
       " 4,\n",
       " 4,\n",
       " 4,\n",
       " 4,\n",
       " 4,\n",
       " 4,\n",
       " 4,\n",
       " 4,\n",
       " 4,\n",
       " 4,\n",
       " 4,\n",
       " 4,\n",
       " 4,\n",
       " 4,\n",
       " 4,\n",
       " 4,\n",
       " 4,\n",
       " 4,\n",
       " 4,\n",
       " 4,\n",
       " 4,\n",
       " 4,\n",
       " 4,\n",
       " 4,\n",
       " 4,\n",
       " 4,\n",
       " 4,\n",
       " 4,\n",
       " 4]"
      ]
     },
     "execution_count": 11,
     "metadata": {},
     "output_type": "execute_result"
    }
   ],
   "source": [
    "covered_function_count_list_guided"
   ]
  },
  {
   "cell_type": "code",
   "execution_count": null,
   "metadata": {},
   "outputs": [],
   "source": []
  },
  {
   "cell_type": "markdown",
   "metadata": {},
   "source": [
    "### The comparasion between Random Fuzzing  and  Function Call Coverage-guided Fuzzing "
   ]
  },
  {
   "cell_type": "markdown",
   "metadata": {},
   "source": [
    "#### from the following result, we can observe that the function call guided fuzzing can help the fuzzer improve the function call coverage. You can also find in the plot that Function Call Coverage-guided Fuzzing increases the coverage for the inputs when we perfrom multiple trails."
   ]
  },
  {
   "cell_type": "code",
   "execution_count": 12,
   "metadata": {},
   "outputs": [
    {
     "data": {
      "text/plain": [
       "Text(0, 0.5, 'Function Call Coverage')"
      ]
     },
     "execution_count": 12,
     "metadata": {},
     "output_type": "execute_result"
    },
    {
     "data": {
      "image/png": "[encoded data removed]",
      "text/plain": [
       "<Figure size 432x288 with 1 Axes>"
      ]
     },
     "metadata": {
      "needs_background": "light"
     },
     "output_type": "display_data"
    }
   ],
   "source": [
    "import matplotlib.pyplot as plt\n",
    "%matplotlib inline\n",
    "\n",
    "\n",
    "plt.plot(covered_function_count_list_guided, 'b', label='Function Coverage Based Fuzzer')\n",
    "plt.plot(covered_function_count_list_random, 'r', label='Random Fuzzer')\n",
    "plt.legend()\n",
    "plt.title('Function Call Coverage of Guided and Random Fuzzer')\n",
    "plt.xlabel('Trails')\n",
    "plt.ylabel('Function Call Coverage')\n"
   ]
  },
  {
   "cell_type": "code",
   "execution_count": null,
   "metadata": {},
   "outputs": [],
   "source": []
  }
 ],
 "metadata": {
  "kernelspec": {
   "display_name": "Python 3",
   "language": "python",
   "name": "python3"
  },
  "language_info": {
   "codemirror_mode": {
    "name": "ipython",
    "version": 3
   },
   "file_extension": ".py",
   "mimetype": "text/x-python",
   "name": "python",
   "nbconvert_exporter": "python",
   "pygments_lexer": "ipython3",
   "version": "3.7.3"
  }
 },
 "nbformat": 4,
 "nbformat_minor": 2
}
